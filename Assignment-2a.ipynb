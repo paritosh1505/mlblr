{
 "cells": [
  {
   "cell_type": "code",
   "execution_count": 3,
   "metadata": {},
   "outputs": [
    {
     "name": "stdout",
     "output_type": "stream",
     "text": [
      "[1, 1, 2, 3, 4, 4, 5, 6, 23, 33]\n"
     ]
    }
   ],
   "source": [
    "def mlblr_quicksort(eiparr):\n",
    "    if len(eiparr) <= 1:\n",
    "        return eiparr\n",
    "    eipPivot = eiparr[len(eiparr) // 2]\n",
    "    eipLeft = [eipx for eipx in eiparr if eipx < eipPivot]\n",
    "    eipMiddle = [eipx for eipx in eiparr if eipx == eipPivot]\n",
    "    eipRight = [eipx for eipx in eiparr if eipx > eipPivot]\n",
    "    return mlblr_quicksort(eipLeft) + eipMiddle + mlblr_quicksort(eipRight)\n",
    "\n",
    "\n",
    "print(mlblr_quicksort([4,5,6,1,3,2,4,1,33,23]))\n"
   ]
  },
  {
   "cell_type": "code",
   "execution_count": 53,
   "metadata": {},
   "outputs": [
    {
     "name": "stdout",
     "output_type": "stream",
     "text": [
      "<class 'int'>\n",
      "101\n",
      "99\n",
      "200\n",
      "1000000\n",
      "101\n",
      "404\n",
      "<class 'int'>\n",
      "50 51 100 2500\n"
     ]
    }
   ],
   "source": [
    "eip_in = 100\n",
    "print(type(eip_in)) \n",
    "print(eip_in + 1)   # Addition; prints \"101\"\n",
    "print(eip_in - 1)   # Subtraction; prints \"99\"\n",
    "print(eip_in * 2)   # Multiplication; prints \"200\"\n",
    "print(eip_in ** 3)  # Exponentiation; prints \"1000000\"\n",
    "eip_in += 1\n",
    "print(eip_in)  # Prints \"101\"\n",
    "eip_in *= 4\n",
    "print(eip_in)  # Prints \"404\"\n",
    "eip_out = 50\n",
    "print(type(eip_out)) # Prints \"<class 'float'>\"\n",
    "print(eip_out, eip_out + 1, eip_out * 2, eip_out ** 2) # Prints \"50 51 100 2500\""
   ]
  },
  {
   "cell_type": "code",
   "execution_count": 54,
   "metadata": {},
   "outputs": [
    {
     "name": "stdout",
     "output_type": "stream",
     "text": [
      "<class 'bool'>\n",
      "False\n",
      "True\n",
      "False\n",
      "True\n"
     ]
    }
   ],
   "source": [
    "eip_in = True\n",
    "mlblr_in = False\n",
    "print(type(eip_in)) # Prints \"<class 'bool'>\"\n",
    "print(eip_in and mlblr_in) # Logical AND; prints \"False\"\n",
    "print(eip_in or mlblr_in)  # Logical OR; prints \"True\"\n",
    "print(not eip_in)   # Logical NOT; prints \"False\"\n",
    "print(eip_in != mlblr_in)  # Logical XOR; prints \"True\""
   ]
  },
  {
   "cell_type": "code",
   "execution_count": 55,
   "metadata": {},
   "outputs": [
    {
     "name": "stdout",
     "output_type": "stream",
     "text": [
      "hello\n",
      "5\n",
      "hello world\n",
      "hello world 12\n"
     ]
    }
   ],
   "source": [
    "eip_in = 'hello'    # String literals can use single quotes\n",
    "mlblr_in = \"world\"    # or double quotes; it does not matter.\n",
    "print(eip_in)       # Prints \"hello\"\n",
    "print(len(eip_in))  # String length; prints \"5\"\n",
    "eip_out = eip_in + ' ' + mlblr_in  # String concatenation\n",
    "print(eip_out)  # prints \"hello world\"\n",
    "mlblr_out = '%s %s %d' % (eip_in, mlblr_in, 12)  # sprintf style string formatting\n",
    "print(mlblr_out)  # prints \"hello world 12\""
   ]
  },
  {
   "cell_type": "code",
   "execution_count": 56,
   "metadata": {},
   "outputs": [
    {
     "name": "stdout",
     "output_type": "stream",
     "text": [
      "Hello\n",
      "HELLO\n",
      "  hello\n",
      " hello \n",
      "he(ell)(ell)o\n",
      "world\n"
     ]
    }
   ],
   "source": [
    "eip_in  = \"hello\"\n",
    "print(eip_in.capitalize())  # Capitalize a string; prints \"Hello\"\n",
    "print(eip_in.upper())       # Convert a string to uppercase; prints \"HELLO\"\n",
    "print(eip_in.rjust(7))      # Right-justify a string, padding with spaces; prints \"  hello\"\n",
    "print(eip_in.center(7))     # Center a string, padding with spaces; prints \" hello \"\n",
    "print(eip_in.replace('l', '(ell)'))  # Replace all instances of one substring with another;\n",
    "                                # prints \"he(ell)(ell)o\"\n",
    "print('  world '.strip())  # Strip leading and trailing whitespace; prints \"world\""
   ]
  },
  {
   "cell_type": "code",
   "execution_count": 12,
   "metadata": {},
   "outputs": [
    {
     "name": "stdout",
     "output_type": "stream",
     "text": [
      "[3, 1, 2] 2\n",
      "2\n",
      "[3, 1, 'foo']\n",
      "[3, 1, 'foo', 'bar']\n",
      "bar [3, 1, 'foo']\n"
     ]
    }
   ],
   "source": [
    "eip_in = [3, 1, 2]    # Create a list\n",
    "print(eip_in, eip_in[2])  # Prints \"[3, 1, 2] 2\"\n",
    "print(eip_in[-1])     # Negative indices count from the end of the list; prints \"2\"\n",
    "eip_in[2] = 'foo'     # Lists can contain elements of different types\n",
    "print(eip_in)         # Prints \"[3, 1, 'foo']\"\n",
    "eip_in.append('bar')  # Add a new element to the end of the list\n",
    "print(eip_in)         # Prints \"[3, 1, 'foo', 'bar']\"\n",
    "eip_out = eip_in.pop()      # Remove and return the last element of the list\n",
    "print(eip_out, eip_in) "
   ]
  },
  {
   "cell_type": "code",
   "execution_count": 57,
   "metadata": {},
   "outputs": [
    {
     "name": "stdout",
     "output_type": "stream",
     "text": [
      "[0, 1, 2, 3, 4]\n",
      "[2, 3]\n",
      "[2, 3, 4]\n",
      "[0, 1]\n",
      "[0, 1, 2, 3, 4]\n",
      "[0, 1, 2, 3]\n",
      "[0, 1, 8, 9, 4]\n"
     ]
    }
   ],
   "source": [
    "eip_in = list(range(5))     # range is a built-in function that creates a list of integers\n",
    "print(eip_in)               # Prints \"[0, 1, 2, 3, 4]\"\n",
    "print(eip_in[2:4])          # Get a slice from index 2 to 4 (exclusive); prints \"[2, 3]\"\n",
    "print(eip_in[2:])           # Get a slice from index 2 to the end; prints \"[2, 3, 4]\"\n",
    "print(eip_in[:2])           # Get a slice from the start to index 2 (exclusive); prints \"[0, 1]\"\n",
    "print(eip_in[:])            # Get a slice of the whole list; prints \"[0, 1, 2, 3, 4]\"\n",
    "print(eip_in[:-1])          # Slice indices can be negative; prints \"[0, 1, 2, 3]\"\n",
    "eip_in[2:4] = [8, 9]        # Assign a new sublist to a slice\n",
    "print(eip_in)               # Prints \"[0, 1, 8, 9, 4]\""
   ]
  },
  {
   "cell_type": "code",
   "execution_count": 58,
   "metadata": {},
   "outputs": [
    {
     "name": "stdout",
     "output_type": "stream",
     "text": [
      "cat\n",
      "dog\n",
      "monkey\n"
     ]
    }
   ],
   "source": [
    "eip_in = ['cat', 'dog', 'monkey']\n",
    "for mlblr_out in eip_in:\n",
    "    print(mlblr_out)\n",
    "# Prints \"cat\", \"dog\", \"monkey\", each on its own line."
   ]
  },
  {
   "cell_type": "code",
   "execution_count": 59,
   "metadata": {},
   "outputs": [
    {
     "name": "stdout",
     "output_type": "stream",
     "text": [
      "#1: cat\n",
      "#2: dog\n",
      "#3: monkey\n"
     ]
    }
   ],
   "source": [
    "\n",
    "eip_in = ['cat', 'dog', 'monkey']\n",
    "for eip_out, mlblr_out in enumerate(eip_in):\n",
    "    print('#%d: %s' % (eip_out + 1, mlblr_out))\n",
    "# Prints \"#1: cat\", \"#2: dog\", \"#3: monkey\", each on its own line"
   ]
  },
  {
   "cell_type": "code",
   "execution_count": 60,
   "metadata": {},
   "outputs": [
    {
     "name": "stdout",
     "output_type": "stream",
     "text": [
      "[0, 1, 4, 9, 16]\n"
     ]
    }
   ],
   "source": [
    "eip_list = [0, 1, 2, 3, 4]\n",
    "eip_out = []\n",
    "for eip_in in eip_list:\n",
    "    eip_out.append(eip_in ** 2)\n",
    "print(eip_out)   # Prints [0, 1, 4, 9, 16]"
   ]
  },
  {
   "cell_type": "code",
   "execution_count": 61,
   "metadata": {},
   "outputs": [
    {
     "name": "stdout",
     "output_type": "stream",
     "text": [
      "[0, 1, 4, 9, 16]\n"
     ]
    }
   ],
   "source": [
    "eip_list = [0, 1, 2, 3, 4]\n",
    "eip_out = [eip_in ** 2 for eip_in in eip_list]\n",
    "print(eip_out)   # Prints [0, 1, 4, 9, 16]"
   ]
  },
  {
   "cell_type": "code",
   "execution_count": 62,
   "metadata": {},
   "outputs": [
    {
     "name": "stdout",
     "output_type": "stream",
     "text": [
      "<class 'tuple'>\n",
      "5\n",
      "1\n"
     ]
    }
   ],
   "source": [
    "eip_list = {(eip_in, eip_in + 1): eip_in for eip_in in range(10)}  # Create a dictionary with tuple keys\n",
    "eip_in = (5, 6)        # Create a tuple\n",
    "print(type(eip_in))    # Prints \"<class 'tuple'>\"\n",
    "print(eip_list[eip_in])       # Prints \"5\"\n",
    "print(eip_list[(1, 2)])  # Prints \"1\""
   ]
  },
  {
   "cell_type": "code",
   "execution_count": 63,
   "metadata": {},
   "outputs": [
    {
     "name": "stdout",
     "output_type": "stream",
     "text": [
      "negative\n",
      "zero\n",
      "positive\n"
     ]
    }
   ],
   "source": [
    "def mlblr_sign(eip_in):\n",
    "    if eip_in > 0:\n",
    "        return 'positive'\n",
    "    elif eip_in < 0:\n",
    "        return 'negative'\n",
    "    else:\n",
    "        return 'zero'\n",
    "\n",
    "for eip_in in [-1, 0, 1]:\n",
    "    print(mlblr_sign(eip_in))\n"
   ]
  },
  {
   "cell_type": "code",
   "execution_count": 64,
   "metadata": {},
   "outputs": [
    {
     "name": "stdout",
     "output_type": "stream",
     "text": [
      "Hello, Bob\n",
      "HELLO, FRED!\n"
     ]
    }
   ],
   "source": [
    "def mlblr_hello(eip_in, eip_out=False):\n",
    "    if eip_out:\n",
    "        print('HELLO, %s!' % eip_in.upper())\n",
    "    else:\n",
    "        print('Hello, %s' % eip_in)\n",
    "\n",
    "mlblr_hello('Bob') # Prints \"Hello, Bob\"\n",
    "mlblr_hello('Fred', eip_out=True)  # Prints \"HELLO, FRED!\""
   ]
  },
  {
   "cell_type": "code",
   "execution_count": 10,
   "metadata": {},
   "outputs": [
    {
     "name": "stdout",
     "output_type": "stream",
     "text": [
      "Hello, Fred\n",
      "HELLO, FRED!\n"
     ]
    }
   ],
   "source": [
    "class mlblr_Greeter(object):\n",
    "\n",
    "    # Constructor\n",
    "    def __init__(self, eip_name):\n",
    "        self.eip_name = eip_name  # Create an instance variable\n",
    "\n",
    "    # Instance method\n",
    "    def mlblr_greet(self, eip_loud=False):\n",
    "        if eip_loud:\n",
    "            print('HELLO, %s!' % self.eip_name.upper())\n",
    "        else:\n",
    "            print('Hello, %s' % self.eip_name)\n",
    "\n",
    "eip_ip_g = mlblr_Greeter('Fred')  # Construct an instance of the Greeter class\n",
    "eip_ip_g.mlblr_greet()            # Call an instance method; prints \"Hello, Fred\"\n",
    "eip_ip_g.mlblr_greet(eip_loud=True)   # Call an instance method; prints \"HELLO, FRED!\""
   ]
  },
  {
   "cell_type": "code",
   "execution_count": 65,
   "metadata": {},
   "outputs": [
    {
     "name": "stdout",
     "output_type": "stream",
     "text": [
      "<class 'numpy.ndarray'>\n",
      "(3,)\n",
      "1 2 3\n",
      "[5 2 3]\n",
      "(2, 3)\n",
      "1 2 4\n"
     ]
    }
   ],
   "source": [
    "import numpy as np\n",
    "\n",
    "eip_in = np.array([1, 2, 3])   # Create a rank 1 array\n",
    "print(type(eip_in))            # Prints \"<class 'numpy.ndarray'>\"\n",
    "print(eip_in.shape)            # Prints \"(3,)\"\n",
    "print(eip_in[0], eip_in[1], eip_in[2])   # Prints \"1 2 3\"\n",
    "eip_in[0] = 5                  # Change an element of the array\n",
    "print(eip_in)                  # Prints \"[5, 2, 3]\"\n",
    "\n",
    "mlblr_in = np.array([[1,2,3],[4,5,6]])    # Create a rank 2 array\n",
    "print(mlblr_in.shape)                     # Prints \"(2, 3)\"\n",
    "print(mlblr_in[0, 0], mlblr_in[0, 1], mlblr_in[1, 0])   # Prints \"1 2 4\""
   ]
  },
  {
   "cell_type": "code",
   "execution_count": 66,
   "metadata": {},
   "outputs": [
    {
     "name": "stdout",
     "output_type": "stream",
     "text": [
      "[[0. 0.]\n",
      " [0. 0.]]\n",
      "[[1. 1.]]\n",
      "[[7 7]\n",
      " [7 7]]\n",
      "[[1. 0.]\n",
      " [0. 1.]]\n",
      "[[0.80565351 0.68112974]\n",
      " [0.02471269 0.86360767]]\n"
     ]
    }
   ],
   "source": [
    "import numpy as np\n",
    "\n",
    "eip_ip1 = np.zeros((2,2))   # Create an array of all zeros\n",
    "print(eip_ip1)              # Prints \"[[ 0.  0.]\n",
    "                      #          [ 0.  0.]]\"\n",
    "\n",
    "eip_ip2 = np.ones((1,2))    # Create an array of all ones\n",
    "print(eip_ip2)              # Prints \"[[ 1.  1.]]\"\n",
    "\n",
    "eip_ip3 = np.full((2,2), 7)  # Create a constant array\n",
    "print(eip_ip3)               # Prints \"[[ 7.  7.]\n",
    "                       #          [ 7.  7.]]\"\n",
    "\n",
    "eip_ip4 = np.eye(2)         # Create a 2x2 identity matrix\n",
    "print(eip_ip4)              # Prints \"[[ 1.  0.]\n",
    "                      #          [ 0.  1.]]\"\n",
    "\n",
    "eip_ip5 = np.random.random((2,2))  # Create an array filled with random values\n",
    "print(eip_ip5)                     # Might print \"[[ 0.91940167  0.08143941]\n",
    "            "
   ]
  },
  {
   "cell_type": "code",
   "execution_count": 68,
   "metadata": {},
   "outputs": [
    {
     "name": "stdout",
     "output_type": "stream",
     "text": [
      "2\n",
      "77\n"
     ]
    }
   ],
   "source": [
    "\n",
    "import numpy as np\n",
    "\n",
    " # Create the following rank 2 array with shape (3, 4) Create \n",
    "# [[ 1  2  3  4]\n",
    "#  [ 5  6  7  8]\n",
    "#  [ 9 10 11 12]]\n",
    "eip_in = np.array([[1,2,3,4], [5,6,7,8], [9,10,11,12]])\n",
    "\n",
    "# Use slicing to pull out the subarray consisting of the first 2 rows\n",
    "# and columns 1 and 2; b is the following array of shape (2, 2):\n",
    "# [[2 3]\n",
    "#  [6 7]]\n",
    "mlblr_in = eip_in[:2, 1:3]\n",
    "\n",
    "# A slice of an array is a view into the same data, so modifying it\n",
    "# will modify the original array.\n",
    "print(eip_in[0, 1])   # Prints \"2\"\n",
    "mlblr_in[0, 0] = 77     # b[0, 0] is the same piece of data as a[0, 1]\n",
    "print(eip_in[0, 1])   # Prints \"77\""
   ]
  },
  {
   "cell_type": "code",
   "execution_count": 69,
   "metadata": {},
   "outputs": [
    {
     "name": "stdout",
     "output_type": "stream",
     "text": [
      "[5 6 7 8] (4,)\n",
      "[[5 6 7 8]] (1, 4)\n",
      "[ 2  6 10] (3,)\n",
      "[[ 2]\n",
      " [ 6]\n",
      " [10]] (3, 1)\n"
     ]
    }
   ],
   "source": [
    "import numpy as np\n",
    "\n",
    "# Create the following rank 2 array with shape (3, 4)\n",
    "# [[ 1  2  3  4]\n",
    "#  [ 5  6  7  8]\n",
    "#  [ 9 10 11 12]]\n",
    "eip_in = np.array([[1,2,3,4], [5,6,7,8], [9,10,11,12]])\n",
    "\n",
    "# Two ways of accessing the data in the middle row of the array.\n",
    "# Mixing integer indexing with slices yields an array of lower rank,\n",
    "# while using only slices yields an array of the same rank as the\n",
    "# original array:\n",
    "mlblr_in1 = eip_in[1, :]    # Rank 1 view of the second row of a\n",
    "mlblr_in2 = eip_in[1:2, :]  # Rank 2 view of the second row of a\n",
    "print(mlblr_in1, mlblr_in1.shape)  # Prints \"[5 6 7 8] (4,)\"\n",
    "print(mlblr_in2, mlblr_in2.shape)  # Prints \"[[5 6 7 8]] (1, 4)\"\n",
    "\n",
    "# We can make the same distinction when accessing columns of an array:\n",
    "eip_out1 = eip_in[:, 1]\n",
    "eip_out2 = eip_in[:, 1:2]\n",
    "print(eip_out1, eip_out1.shape)  # Prints \"[ 2  6 10] (3,)\"\n",
    "print(eip_out2, eip_out2.shape)  # Prints \"[[ 2]\n",
    "                             #          [ 6]\n",
    "                             #          [10]] (3, 1)\""
   ]
  },
  {
   "cell_type": "code",
   "execution_count": 70,
   "metadata": {},
   "outputs": [
    {
     "name": "stdout",
     "output_type": "stream",
     "text": [
      "[1 4 5]\n",
      "[1 4 5]\n",
      "[2 2]\n",
      "[2 2]\n"
     ]
    }
   ],
   "source": [
    "import numpy as np\n",
    "\n",
    "eip_in = np.array([[1,2], [3, 4], [5, 6]])\n",
    "\n",
    "# An example of integer array indexing.\n",
    "# The returned array will have shape (3,) and\n",
    "print(eip_in[[0, 1, 2], [0, 1, 0]])  # Prints \"[1 4 5]\"\n",
    "\n",
    "# The above example of integer array indexing is equivalent to this:\n",
    "print(np.array([eip_in[0, 0], eip_in[1, 1], eip_in[2, 0]]))  # Prints \"[1 4 5]\"\n",
    "\n",
    "# When using integer array indexing, you can reuse the same\n",
    "# element from the source array:\n",
    "print(eip_in[[0, 0], [1, 1]])  # Prints \"[2 2]\"\n",
    "\n",
    "# Equivalent to the previous integer array indexing example\n",
    "print(np.array([eip_in[0, 1], eip_in[0, 1]]))  # Prints \"[2 2]\""
   ]
  },
  {
   "cell_type": "code",
   "execution_count": 71,
   "metadata": {},
   "outputs": [
    {
     "name": "stdout",
     "output_type": "stream",
     "text": [
      "[[ 1  2  3]\n",
      " [ 4  5  6]\n",
      " [ 7  8  9]\n",
      " [10 11 12]]\n",
      "[ 1  6  7 11]\n",
      "[[11  2  3]\n",
      " [ 4  5 16]\n",
      " [17  8  9]\n",
      " [10 21 12]]\n"
     ]
    }
   ],
   "source": [
    "import numpy as np\n",
    "\n",
    "# Create a new array from which we will select elements\n",
    "eip_in = np.array([[1,2,3], [4,5,6], [7,8,9], [10, 11, 12]])\n",
    "\n",
    "print(eip_in)  # prints \"array([[ 1,  2,  3],\n",
    "          #                [ 4,  5,  6],\n",
    "          #                [ 7,  8,  9],\n",
    "          #                [10, 11, 12]])\"\n",
    "\n",
    "# Create an array of indices\n",
    "mlblr_in = np.array([0, 2, 0, 1])\n",
    "\n",
    "# Select one element from each row of a using the indices in b\n",
    "print(eip_in[np.arange(4), mlblr_in])  # Prints \"[ 1  6  7 11]\"\n",
    "\n",
    "# Mutate one element from each row of a using the indices in b\n",
    "eip_in[np.arange(4), mlblr_in] += 10\n",
    "\n",
    "print(eip_in)  # prints \"array([[11,  2,  3],\n",
    "          #                [ 4,  5, 16],\n",
    "          #                [17,  8,  9],\n",
    "          #                [10, 21, 12]])"
   ]
  },
  {
   "cell_type": "code",
   "execution_count": 72,
   "metadata": {},
   "outputs": [
    {
     "name": "stdout",
     "output_type": "stream",
     "text": [
      "[[False False]\n",
      " [ True  True]\n",
      " [ True  True]]\n",
      "[3 4 5 6]\n",
      "[3 4 5 6]\n"
     ]
    }
   ],
   "source": [
    "import numpy as np\n",
    "\n",
    "eip_in = np.array([[1,2], [3, 4], [5, 6]])\n",
    "\n",
    "mlblr_in = (eip_in > 2)   # Find the elements of a that are bigger than 2;\n",
    "                     # this returns a numpy array of Booleans of the same\n",
    "                     # shape as a, where each slot of bool_idx tells\n",
    "                     # whether that element of a is > 2.\n",
    "\n",
    "print(mlblr_in)      # Prints \"[[False False]\n",
    "                     #          [ True  True]\n",
    "                     #          [ True  True]]\"\n",
    "\n",
    "# We use boolean array indexing to construct a rank 1 array\n",
    "# consisting of the elements of a corresponding to the True values\n",
    "# of bool_idx\n",
    "print(eip_in[mlblr_in])  # Prints \"[3 4 5 6]\"\n",
    "\n",
    "# We can do all of the above in a single concise statement:\n",
    "print(eip_in[eip_in > 2])     # Prints \"[3 4 5 6]\""
   ]
  },
  {
   "cell_type": "code",
   "execution_count": 73,
   "metadata": {},
   "outputs": [
    {
     "name": "stdout",
     "output_type": "stream",
     "text": [
      "int32\n",
      "float64\n",
      "int64\n"
     ]
    }
   ],
   "source": [
    "import numpy as np\n",
    "\n",
    "eip_in = np.array([1, 2])   # Let numpy choose the datatype\n",
    "print(eip_in.dtype)         # Prints \"int64\"\n",
    "\n",
    "eip_in = np.array([1.0, 2.0])   # Let numpy choose the datatype\n",
    "print(eip_in.dtype)             # Prints \"float64\"\n",
    "\n",
    "eip_in = np.array([1, 2], dtype=np.int64)   # Force a particular datatype\n",
    "print(eip_in.dtype)                         # Prints \"int64\""
   ]
  },
  {
   "cell_type": "code",
   "execution_count": 74,
   "metadata": {},
   "outputs": [
    {
     "name": "stdout",
     "output_type": "stream",
     "text": [
      "[[ 6.  8.]\n",
      " [10. 12.]]\n",
      "[[ 6.  8.]\n",
      " [10. 12.]]\n",
      "[[-4. -4.]\n",
      " [-4. -4.]]\n",
      "[[-4. -4.]\n",
      " [-4. -4.]]\n",
      "[[ 5. 12.]\n",
      " [21. 32.]]\n",
      "[[ 5. 12.]\n",
      " [21. 32.]]\n",
      "[[0.2        0.33333333]\n",
      " [0.42857143 0.5       ]]\n",
      "[[0.2        0.33333333]\n",
      " [0.42857143 0.5       ]]\n",
      "[[1.         1.41421356]\n",
      " [1.73205081 2.        ]]\n"
     ]
    }
   ],
   "source": [
    "import numpy as np\n",
    "\n",
    "eip_in= np.array([[1,2],[3,4]], dtype=np.float64)\n",
    "mlblr_in = np.array([[5,6],[7,8]], dtype=np.float64)\n",
    "\n",
    "# Elementwise sum; both produce the array\n",
    "# [[ 6.0  8.0]\n",
    "#  [10.0 12.0]]\n",
    "print(eip_in + mlblr_in)\n",
    "print(np.add(eip_in, mlblr_in))\n",
    "\n",
    "# Elementwise difference; both produce the array\n",
    "# [[-4.0 -4.0]\n",
    "#  [-4.0 -4.0]]\n",
    "print(eip_in - mlblr_in)\n",
    "print(np.subtract(eip_in, mlblr_in))\n",
    "\n",
    "# Elementwise product; both produce the array\n",
    "# [[ 5.0 12.0]\n",
    "#  [21.0 32.0]]\n",
    "print(eip_in * mlblr_in)\n",
    "print(np.multiply(eip_in, mlblr_in))\n",
    "\n",
    "# Elementwise division; both produce the array\n",
    "# [[ 0.2         0.33333333]\n",
    "#  [ 0.42857143  0.5       ]]\n",
    "print(eip_in / mlblr_in)\n",
    "print(np.divide(eip_in, mlblr_in))\n",
    "\n",
    "# Elementwise square root; produces the array\n",
    "# [[ 1.          1.41421356]\n",
    "#  [ 1.73205081  2.        ]]\n",
    "print(np.sqrt(eip_in))"
   ]
  },
  {
   "cell_type": "code",
   "execution_count": 77,
   "metadata": {},
   "outputs": [
    {
     "name": "stdout",
     "output_type": "stream",
     "text": [
      "219\n",
      "219\n",
      "[29 67]\n",
      "[29 67]\n",
      "[[19 22]\n",
      " [43 50]]\n",
      "[[19 22]\n",
      " [43 50]]\n"
     ]
    }
   ],
   "source": [
    "import numpy as np\n",
    "\n",
    "eip_list = np.array([[1,2],[3,4]])\n",
    "mlblr_in = np.array([[5,6],[7,8]])\n",
    "\n",
    "eip_in = np.array([9,10])\n",
    "eip_in1 = np.array([11, 12])\n",
    "\n",
    "# Inner product of vectors; both produce 219\n",
    "print(eip_in.dot(eip_in1))\n",
    "print(np.dot(eip_in, eip_in1))\n",
    "\n",
    "# Matrix / vector product; both produce the rank 1 array [29 67]\n",
    "print(eip_list.dot(eip_in))\n",
    "print(np.dot(eip_list, eip_in))\n",
    "\n",
    "# Matrix / matrix product; both produce the rank 2 array\n",
    "# [[19 22]\n",
    "#  [43 50]]\n",
    "print(eip_list.dot(mlblr_in))\n",
    "print(np.dot(eip_list, mlblr_in))"
   ]
  },
  {
   "cell_type": "code",
   "execution_count": 78,
   "metadata": {},
   "outputs": [
    {
     "name": "stdout",
     "output_type": "stream",
     "text": [
      "10\n",
      "[4 6]\n",
      "[3 7]\n"
     ]
    }
   ],
   "source": [
    "import numpy as np\n",
    "\n",
    "eip_in = np.array([[1,2],[3,4]])\n",
    "\n",
    "print(np.sum(eip_in))  # Compute sum of all elements; prints \"10\"\n",
    "print(np.sum(eip_in, axis=0))  # Compute sum of each column; prints \"[4 6]\"\n",
    "print(np.sum(eip_in, axis=1))  # Compute sum of each row; prints \"[3 7]\""
   ]
  },
  {
   "cell_type": "code",
   "execution_count": 79,
   "metadata": {},
   "outputs": [
    {
     "name": "stdout",
     "output_type": "stream",
     "text": [
      "[[1 2]\n",
      " [3 4]]\n",
      "[[1 3]\n",
      " [2 4]]\n",
      "[1 2 3]\n",
      "[1 2 3]\n"
     ]
    }
   ],
   "source": [
    "import numpy as np\n",
    "\n",
    "eip_in = np.array([[1,2], [3,4]])\n",
    "print(eip_in)    # Prints \"[[1 2]\n",
    "            #          [3 4]]\"\n",
    "print(eip_in.T)  # Prints \"[[1 3]\n",
    "            #          [2 4]]\"\n",
    "\n",
    "# Note that taking the transpose of a rank 1 array does nothing:\n",
    "mlblr_in = np.array([1,2,3])\n",
    "print(mlblr_in)    # Prints \"[1 2 3]\"\n",
    "print(mlblr_in.T)  # Prints \"[1 2 3]\""
   ]
  },
  {
   "cell_type": "code",
   "execution_count": 81,
   "metadata": {},
   "outputs": [
    {
     "name": "stdout",
     "output_type": "stream",
     "text": [
      "[[ 2  2  4]\n",
      " [ 5  5  7]\n",
      " [ 8  8 10]\n",
      " [11 11 13]]\n"
     ]
    }
   ],
   "source": [
    "import numpy as np\n",
    "\n",
    "# We will add the vector v to each row of the matrix x,\n",
    "# storing the result in the matrix y\n",
    "eip_x = np.array([[1,2,3], [4,5,6], [7,8,9], [10, 11, 12]])\n",
    "eip_v = np.array([1, 0, 1])\n",
    "eip_y = np.empty_like(eip_x)   # Create an empty matrix with the same shape as x\n",
    "\n",
    "# Add the vector v to each row of the matrix x with an explicit loop\n",
    "for eip_i in range(4):\n",
    "    eip_y[eip_i, :] = eip_x[eip_i, :] + eip_v\n",
    "\n",
    "# Now y is the following\n",
    "# [[ 2  2  4]\n",
    "#  [ 5  5  7]\n",
    "#  [ 8  8 10]\n",
    "#  [11 11 13]]\n",
    "print(eip_y)"
   ]
  },
  {
   "cell_type": "code",
   "execution_count": 82,
   "metadata": {},
   "outputs": [
    {
     "name": "stdout",
     "output_type": "stream",
     "text": [
      "[[1 0 1]\n",
      " [1 0 1]\n",
      " [1 0 1]\n",
      " [1 0 1]]\n",
      "[[ 2  2  4]\n",
      " [ 5  5  7]\n",
      " [ 8  8 10]\n",
      " [11 11 13]]\n"
     ]
    }
   ],
   "source": [
    "import numpy as np\n",
    "\n",
    "# We will add the vector v to each row of the matrix x,\n",
    "# storing the result in the matrix y\n",
    "eip_in = np.array([[1,2,3], [4,5,6], [7,8,9], [10, 11, 12]])\n",
    "eip_in1 = np.array([1, 0, 1])\n",
    "mlblr_in = np.tile(v, (4, 1))   # Stack 4 copies of v on top of each other\n",
    "print(mlblr_in)                 # Prints \"[[1 0 1]\n",
    "                          #          [1 0 1]\n",
    "                          #          [1 0 1]\n",
    "                          #          [1 0 1]]\"\n",
    "eip_in1 = eip_in + mlblr_in  # Add x and vv elementwise\n",
    "print(eip_in1)  # Prints \"[[ 2  2  4\n",
    "          #          [ 5  5  7]\n",
    "          #          [ 8  8 10]\n",
    "          #          [11 11 13]]\""
   ]
  },
  {
   "cell_type": "code",
   "execution_count": 33,
   "metadata": {},
   "outputs": [
    {
     "name": "stdout",
     "output_type": "stream",
     "text": [
      "[[ 2  2  4]\n",
      " [ 5  5  7]\n",
      " [ 8  8 10]\n",
      " [11 11 13]]\n"
     ]
    }
   ],
   "source": [
    "import numpy as np\n",
    "\n",
    "# We will add the vector v to each row of the matrix x,\n",
    "# storing the result in the matrix y\n",
    "eip_list = np.array([[1,2,3], [4,5,6], [7,8,9], [10, 11, 12]])\n",
    "mlblr_in = np.array([1, 0, 1])\n",
    "mlblr_out = mlblr_in + eip_list  # Add v to each row of x using broadcasting\n",
    "print(mlblr_out)  # Prints \"[[ 2  2  4]\n",
    "          #          [ 5  5  7]\n",
    "          #          [ 8  8 10]\n",
    "          #          [11 11 13]]\""
   ]
  },
  {
   "cell_type": "code",
   "execution_count": 34,
   "metadata": {},
   "outputs": [
    {
     "name": "stdout",
     "output_type": "stream",
     "text": [
      "[[ 4  5]\n",
      " [ 8 10]\n",
      " [12 15]]\n",
      "[[2 4 6]\n",
      " [5 7 9]]\n",
      "[[ 5  6  7]\n",
      " [ 9 10 11]]\n",
      "[[ 5  6  7]\n",
      " [ 9 10 11]]\n",
      "[[ 2  4  6]\n",
      " [ 8 10 12]]\n"
     ]
    }
   ],
   "source": [
    "import numpy as np\n",
    "\n",
    "# Compute outer product of vectors\n",
    "eip_list = np.array([1,2,3])  \n",
    "mlblr_list = np.array([4,5])    \n",
    "\n",
    "print(np.reshape(eip_list, (3, 1)) * mlblr_list)\n",
    "\n",
    "# Add a vector to each row of a matrix\n",
    "eip_in = np.array([[1,2,3], [4,5,6]])\n",
    "\n",
    "print(eip_in + eip_list)\n",
    "\n",
    "\n",
    "print((eip_in.T + mlblr_list).T)\n",
    "\n",
    "print(eip_in + np.reshape(mlblr_list, (2, 1)))\n",
    "\n",
    "\n",
    "print(eip_in * 2)"
   ]
  },
  {
   "cell_type": "code",
   "execution_count": 41,
   "metadata": {},
   "outputs": [
    {
     "name": "stdout",
     "output_type": "stream",
     "text": [
      "uint8 (182, 276, 3)\n"
     ]
    },
    {
     "name": "stderr",
     "output_type": "stream",
     "text": [
      "C:\\Users\\paritosh.pantola\\AppData\\Local\\Continuum\\anaconda3\\lib\\site-packages\\ipykernel_launcher.py:4: DeprecationWarning: `imread` is deprecated!\n",
      "`imread` is deprecated in SciPy 1.0.0, and will be removed in 1.2.0.\n",
      "Use ``imageio.imread`` instead.\n",
      "  after removing the cwd from sys.path.\n",
      "C:\\Users\\paritosh.pantola\\AppData\\Local\\Continuum\\anaconda3\\lib\\site-packages\\ipykernel_launcher.py:16: DeprecationWarning: `imresize` is deprecated!\n",
      "`imresize` is deprecated in SciPy 1.0.0, and will be removed in 1.2.0.\n",
      "Use ``skimage.transform.resize`` instead.\n",
      "  app.launch_new_instance()\n",
      "C:\\Users\\paritosh.pantola\\AppData\\Local\\Continuum\\anaconda3\\lib\\site-packages\\ipykernel_launcher.py:19: DeprecationWarning: `imsave` is deprecated!\n",
      "`imsave` is deprecated in SciPy 1.0.0, and will be removed in 1.2.0.\n",
      "Use ``imageio.imwrite`` instead.\n"
     ]
    }
   ],
   "source": [
    "from scipy.misc import imread, imsave, imresize\n",
    "\n",
    "# Read an JPEG image into a numpy array\n",
    "mlblr_in = imread('images.jpg')\n",
    "print(mlblr_in.dtype, mlblr_in.shape)  # Prints \"uint8 (400, 248, 3)\"\n",
    "\n",
    "# We can tint the image by scaling each of the color channels\n",
    "# by a different scalar constant. The image has shape (400, 248, 3);\n",
    "# we multiply it by the array [1, 0.95, 0.9] of shape (3,);\n",
    "# numpy broadcasting means that this leaves the red channel unchanged,\n",
    "# and multiplies the green and blue channels by 0.95 and 0.9\n",
    "# respectively.\n",
    "mlblr_out = mlblr_in * [1, 0.95, 0.9]\n",
    "\n",
    "# Resize the tinted image to be 300 by 300 pixels.\n",
    "mlblr_out = imresize(mlblr_out, (300, 300))\n",
    "\n",
    "# Write the tinted image back to disk\n",
    "imsave('Image_final.jpg', mlblr_out)"
   ]
  },
  {
   "cell_type": "code",
   "execution_count": 42,
   "metadata": {},
   "outputs": [
    {
     "name": "stdout",
     "output_type": "stream",
     "text": [
      "[[0 1]\n",
      " [1 0]\n",
      " [2 0]]\n",
      "[[0.         1.41421356 2.23606798]\n",
      " [1.41421356 0.         1.        ]\n",
      " [2.23606798 1.         0.        ]]\n"
     ]
    }
   ],
   "source": [
    "import numpy as np\n",
    "from scipy.spatial.distance import pdist, squareform\n",
    "\n",
    "# Create the following array where each row is a point in 2D space:\n",
    "# [[0 1]\n",
    "#  [1 0]\n",
    "#  [2 0]]\n",
    "eip_in = np.array([[0, 1], [1, 0], [2, 0]])\n",
    "print(eip_in)\n",
    "\n",
    "eip_out = squareform(pdist(eip_in, 'euclidean'))\n",
    "print(eip_out)"
   ]
  },
  {
   "cell_type": "code",
   "execution_count": 44,
   "metadata": {},
   "outputs": [
    {
     "data": {
      "image/png": "[encoded data removed]",
      "text/plain": [
       "<matplotlib.figure.Figure at 0x15ba2678588>"
      ]
     },
     "metadata": {},
     "output_type": "display_data"
    }
   ],
   "source": [
    "\n",
    "import numpy as npp\n",
    "import matplotlib.pyplot  as plt\n",
    "\n",
    "# Compute the x and y coordinates for points on a sine curve\n",
    "eip_in = np.arange(0, 3 * np.pi, 0.1)\n",
    "eip_out = np.sin(eip_in)\n",
    "\n",
    "# Plot the points using matplotlib\n",
    "plt.plot(eip_in, eip_out)\n",
    "plt.show()  # You must call plt.show() to make graphics appear."
   ]
  },
  {
   "cell_type": "code",
   "execution_count": 46,
   "metadata": {},
   "outputs": [
    {
     "data": {
      "image/png": "[encoded data removed]",
      "text/plain": [
       "<matplotlib.figure.Figure at 0x15ba29e34e0>"
      ]
     },
     "metadata": {},
     "output_type": "display_data"
    }
   ],
   "source": [
    "import numpy as np\n",
    "import matplotlib.pyplot as plt\n",
    "\n",
    "# Compute the x and y coordinates for points on sine and cosine curves\n",
    "eip_in = np.arange(0, 3 * np.pi, 0.1)\n",
    "eip_sin = np.sin(eip_in)\n",
    "eip_cos = np.cos(eip_in)\n",
    "\n",
    "# Plot the points using matplotlib\n",
    "plt.plot(eip_in, eip_sin)\n",
    "plt.plot(eip_in, eip_cos)\n",
    "plt.xlabel('x axis label')\n",
    "plt.ylabel('y axis label')\n",
    "plt.title('Sine and Cosine')\n",
    "plt.legend(['Sine', 'Cosine'])\n",
    "plt.show()"
   ]
  },
  {
   "cell_type": "code",
   "execution_count": 50,
   "metadata": {},
   "outputs": [
    {
     "data": {
      "image/png": "[encoded data removed]",
      "text/plain": [
       "<matplotlib.figure.Figure at 0x15ba1d074a8>"
      ]
     },
     "metadata": {},
     "output_type": "display_data"
    }
   ],
   "source": [
    "import numpy as np\n",
    "import matplotlib.pyplot as plt\n",
    "\n",
    "# Compute the x and y coordinates for points on sine and cosine curves\n",
    "eip_in = np.arange(0, 3 * np.pi, 0.1)\n",
    "eip_sin = np.sin(eip_in)\n",
    "eip_cos = np.cos(eip_in)\n",
    "\n",
    "# Set up a subplot grid that has height 2 and width 1,\n",
    "# and set the first such subplot as active.\n",
    "plt.subplot(2, 1, 1)\n",
    "\n",
    "# Make the first plot\n",
    "plt.plot(eip_in, eip_sin)\n",
    "plt.title('Sine')\n",
    "\n",
    "# Set the second subplot as active, and make the second plot.\n",
    "plt.subplot(2, 1, 2)\n",
    "plt.plot(eip_in, eip_cos)\n",
    "plt.title('Cosine')\n",
    "\n",
    "# Show the figure.\n",
    "plt.show()"
   ]
  },
  {
   "cell_type": "code",
   "execution_count": 51,
   "metadata": {},
   "outputs": [
    {
     "name": "stderr",
     "output_type": "stream",
     "text": [
      "C:\\Users\\paritosh.pantola\\AppData\\Local\\Continuum\\anaconda3\\lib\\site-packages\\ipykernel_launcher.py:5: DeprecationWarning: `imread` is deprecated!\n",
      "`imread` is deprecated in SciPy 1.0.0, and will be removed in 1.2.0.\n",
      "Use ``imageio.imread`` instead.\n",
      "  \"\"\"\n"
     ]
    },
    {
     "data": {
      "image/png": "[encoded data removed]",
      "text/plain": [
       "<matplotlib.figure.Figure at 0x15ba2a44ac8>"
      ]
     },
     "metadata": {},
     "output_type": "display_data"
    }
   ],
   "source": [
    "import numpy as np\n",
    "from scipy.misc import imread, imresize\n",
    "import matplotlib.pyplot as plt\n",
    "\n",
    "mlblr_in = imread('images.jpg')\n",
    "mlblr_out = mlblr_in * [1, 0.95, 0.9]\n",
    "\n",
    "# Show the original image\n",
    "plt.subplot(1, 2, 1)\n",
    "plt.imshow(mlblr_in)\n",
    "\n",
    "# Show the tinted image\n",
    "plt.subplot(1, 2, 2)\n",
    "\n",
    "# A slight gotcha with imshow is that it might give strange results\n",
    "# if presented with data that is not uint8. To work around this, we\n",
    "# explicitly cast the image to uint8 before displaying it.\n",
    "plt.imshow(np.uint8(mlblr_out))\n",
    "plt.show()"
   ]
  },
  {
   "cell_type": "code",
   "execution_count": null,
   "metadata": {},
   "outputs": [],
   "source": []
  }
 ],
 "metadata": {
  "kernelspec": {
   "display_name": "Python 3",
   "language": "python",
   "name": "python3"
  },
  "language_info": {
   "codemirror_mode": {
    "name": "ipython",
    "version": 3
   },
   "file_extension": ".py",
   "mimetype": "text/x-python",
   "name": "python",
   "nbconvert_exporter": "python",
   "pygments_lexer": "ipython3",
   "version": "3.6.4"
  }
 },
 "nbformat": 4,
 "nbformat_minor": 2
}
